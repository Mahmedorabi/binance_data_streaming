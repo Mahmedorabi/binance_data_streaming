{
 "cells": [
  {
   "cell_type": "code",
   "execution_count": 1,
   "id": "f119295b",
   "metadata": {},
   "outputs": [
    {
     "name": "stdout",
     "output_type": "stream",
     "text": [
      "Open: 107108.05000000, High: 107585.12000000, Low: 106866.63000000, Close: 107415.00000000, Volume: 966.52615000\n"
     ]
    }
   ],
   "source": [
    "import tomllib\n",
    "import requests\n",
    "import os \n",
    "\n",
    "with open(\"config.toml\", \"rb\") as f:\n",
    "    cfg = tomllib.load(f)[\"binance\"]\n",
    "\n",
    "api_key = os.getenv(\"BINANCE_API_KEY\")\n",
    "headers = {\n",
    "    \"X-MBX-APIKEY\": api_key\n",
    "}\n",
    "params  = {\n",
    "    \"symbol\":   cfg[\"symbol\"],\n",
    "    \"interval\": cfg[\"interval\"],\n",
    "    \"limit\":    int(cfg[\"limit\"]), \n",
    "}\n",
    "\n",
    "url = cfg['url']\n",
    "response = requests.get(url, headers=headers, params=params)\n",
    "\n",
    "data = response.json()\n",
    "\n",
    "open_time = data[0][0]\n",
    "open_price = data[0][1]\n",
    "high_price = data[0][2]\n",
    "low_price = data[0][3]\n",
    "close_price = data[0][4]\n",
    "volume = data[0][5]\n",
    "\n",
    "print(f\"Open: {open_price}, High: {high_price}, Low: {low_price}, Close: {close_price}, Volume: {volume}\")\n"
   ]
  },
  {
   "cell_type": "code",
   "execution_count": 1,
   "id": "ec7987c5",
   "metadata": {},
   "outputs": [],
   "source": [
    "import tomllib\n",
    "import requests\n",
    "import os\n",
    "import time\n",
    "import pandas as pd"
   ]
  },
  {
   "cell_type": "code",
   "execution_count": 2,
   "id": "535edeb2",
   "metadata": {},
   "outputs": [],
   "source": [
    "with open(\"config.toml\", \"rb\") as f:\n",
    "    cfg = tomllib.load(f)[\"binance\"]\n",
    "\n",
    "api_key = os.getenv(\"BINANCE_API_KEY\")\n",
    "headers = {\"X-MBX-APIKEY\": api_key}\n",
    "\n",
    "params = {\n",
    "    \"symbol\":   cfg[\"symbol\"],\n",
    "    \"interval\": cfg[\"interval\"],\n",
    "    \"limit\":    int(cfg[\"limit\"]), \n",
    "}\n",
    "url = cfg['url']"
   ]
  },
  {
   "cell_type": "code",
   "execution_count": 4,
   "id": "643903dc",
   "metadata": {},
   "outputs": [
    {
     "name": "stderr",
     "output_type": "stream",
     "text": [
      "/var/folders/8r/f598trz55xnb0kvpw1j3cglh0000gn/T/ipykernel_71081/3224718228.py:28: FutureWarning: The behavior of DataFrame concatenation with empty or all-NA entries is deprecated. In a future version, this will no longer exclude empty or all-NA columns when determining the result dtypes. To retain the old behavior, exclude the relevant entries before the concat operation.\n",
      "  df = pd.concat([df, pd.DataFrame([new_row])], ignore_index=True)\n"
     ]
    },
    {
     "name": "stdout",
     "output_type": "stream",
     "text": [
      "✅ New data collected.\n",
      "🔁 No new data.\n",
      "✅ New data collected.\n",
      "🔁 No new data.\n",
      "🔁 No new data.\n",
      "🔁 No new data.\n",
      "🔁 No new data.\n",
      "🔁 No new data.\n",
      "🔁 No new data.\n",
      "🔁 No new data.\n",
      "🔁 No new data.\n",
      "🔁 No new data.\n",
      "🔁 No new data.\n",
      "✅ New data collected.\n",
      "🔁 No new data.\n",
      "🔁 No new data.\n",
      "🔁 No new data.\n",
      "🔁 No new data.\n",
      "🔁 No new data.\n",
      "🔁 No new data.\n",
      "🔁 No new data.\n",
      "🔁 No new data.\n",
      "🔁 No new data.\n",
      "✅ New data collected.\n",
      "🔁 No new data.\n",
      "\n",
      "⏹️ Data collection stopped by user.\n"
     ]
    }
   ],
   "source": [
    "df = pd.DataFrame(columns=[\"timestamp\", \"open\", \"high\", \"low\", \"close\", \"volume\"])\n",
    "\n",
    "try:\n",
    "    while True:\n",
    "        response = requests.get(url, headers=headers, params=params)\n",
    "        if response.status_code != 200:\n",
    "            print(\"Error:\", response.status_code, response.text)\n",
    "            time.sleep(5)\n",
    "            continue\n",
    "\n",
    "        data = response.json()[0]  \n",
    "        open_time = data[0]\n",
    "        open_price = data[1]\n",
    "        high_price = data[2]\n",
    "        low_price = data[3]\n",
    "        close_price = data[4]\n",
    "        volume = data[5]\n",
    "\n",
    "        if open_time not in df[\"timestamp\"].values:\n",
    "            new_row = {\n",
    "                \"timestamp\": open_time,\n",
    "                \"open\": float(open_price),\n",
    "                \"high\": float(high_price),\n",
    "                \"low\": float(low_price),\n",
    "                \"close\": float(close_price),\n",
    "                \"volume\": float(volume)\n",
    "            }\n",
    "            df = pd.concat([df, pd.DataFrame([new_row])], ignore_index=True)\n",
    "            print(\"✅ New data collected.\")\n",
    "        else:\n",
    "            print(\"🔁 No new data.\")\n",
    "\n",
    "        time.sleep(5)\n",
    "\n",
    "except KeyboardInterrupt:\n",
    "    print(\"\\n⏹️ Data collection stopped by user.\")\n",
    "\n",
    "df.to_csv(\"ohlcv_data.csv\", index=False)\n"
   ]
  },
  {
   "cell_type": "code",
   "execution_count": 1,
   "id": "578f098b",
   "metadata": {},
   "outputs": [],
   "source": [
    "import psycopg2\n",
    "\n",
    "# Replace these with your actual credentials\n",
    "conn = psycopg2.connect(\n",
    "    host=\"localhost\",        # or your DB host/IP\n",
    "    port=\"5432\",             # default PostgreSQL port\n",
    "    database=\"crypto\",\n",
    "    user=\"postgres\",\n",
    "    password=\"2002\"\n",
    ")"
   ]
  },
  {
   "cell_type": "code",
   "execution_count": 2,
   "id": "bf93894a",
   "metadata": {},
   "outputs": [],
   "source": [
    "cursor = conn.cursor()\n",
    "\n",
    "insert_query = \"\"\"\n",
    "INSERT INTO ohlcv (timestamp, open, high, low, close, volume)\n",
    "VALUES (%s, %s, %s, %s, %s, %s);\n",
    "\"\"\"\n",
    "data = (\n",
    "    1751130720000,\n",
    "    107413.33,\n",
    "    107413.33,\n",
    "    107408.01,\n",
    "    107408.01,\n",
    "    0.84863\n",
    ")\n",
    "\n",
    "cursor.execute(insert_query, data)\n",
    "conn.commit()\n",
    "\n",
    "# Don't forget to close\n",
    "cursor.close()\n",
    "conn.close()\n"
   ]
  },
  {
   "cell_type": "code",
   "execution_count": 4,
   "id": "9d51aee0",
   "metadata": {},
   "outputs": [],
   "source": [
    "from app import config\n",
    "from app.binance_client import BinanceClient\n",
    "\n",
    "binance_client = BinanceClient(\n",
    "    api_key=config.BINANCE_API_KEY,\n",
    "    symbol=config.BINANCE_SYMBOL,\n",
    "    interval=config.BINANCE_INTERVAL,\n",
    "    limit=config.BINANCE_LIMIT,\n",
    "    url=config.BINANCE_URL\n",
    ").get_historical_data()\n"
   ]
  },
  {
   "cell_type": "code",
   "execution_count": 6,
   "id": "ab66ce65",
   "metadata": {},
   "outputs": [
    {
     "ename": "ModuleNotFoundError",
     "evalue": "No module named 'binance'",
     "output_type": "error",
     "traceback": [
      "\u001b[31m---------------------------------------------------------------------------\u001b[39m",
      "\u001b[31mModuleNotFoundError\u001b[39m                       Traceback (most recent call last)",
      "\u001b[36mCell\u001b[39m\u001b[36m \u001b[39m\u001b[32mIn[6]\u001b[39m\u001b[32m, line 1\u001b[39m\n\u001b[32m----> \u001b[39m\u001b[32m1\u001b[39m \u001b[38;5;28;01mfrom\u001b[39;00m\u001b[38;5;250m \u001b[39m\u001b[34;01mbinance\u001b[39;00m\u001b[38;5;250m \u001b[39m\u001b[38;5;28;01mimport\u001b[39;00m AsyncClient, BinanceSocketManager\n",
      "\u001b[31mModuleNotFoundError\u001b[39m: No module named 'binance'"
     ]
    }
   ],
   "source": [
    "from binance import AsyncClient, BinanceSocketManager\n"
   ]
  },
  {
   "cell_type": "code",
   "execution_count": 7,
   "id": "d87d2156",
   "metadata": {},
   "outputs": [
    {
     "name": "stdout",
     "output_type": "stream",
     "text": [
      "Collecting binance\n",
      "  Downloading binance-0.3.51-py3-none-any.whl.metadata (50 kB)\n",
      "Downloading binance-0.3.51-py3-none-any.whl (850 kB)\n",
      "\u001b[2K   \u001b[90m━━━━━━━━━━━━━━━━━━━━━━━━━━━━━━━━━━━━━━━━\u001b[0m \u001b[32m850.2/850.2 kB\u001b[0m \u001b[31m1.1 MB/s\u001b[0m eta \u001b[36m0:00:00\u001b[0ma \u001b[36m0:00:01\u001b[0m\n",
      "\u001b[?25hInstalling collected packages: binance\n",
      "Successfully installed binance-0.3.51\n"
     ]
    }
   ],
   "source": [
    "!pip install binance"
   ]
  },
  {
   "cell_type": "code",
   "execution_count": 13,
   "id": "2758b81d",
   "metadata": {},
   "outputs": [
    {
     "ename": "KeyboardInterrupt",
     "evalue": "",
     "output_type": "error",
     "traceback": [
      "\u001b[31m---------------------------------------------------------------------------\u001b[39m",
      "\u001b[31mKeyboardInterrupt\u001b[39m                         Traceback (most recent call last)",
      "\u001b[36mCell\u001b[39m\u001b[36m \u001b[39m\u001b[32mIn[13]\u001b[39m\u001b[32m, line 37\u001b[39m\n\u001b[32m     34\u001b[39m                 \u001b[38;5;28mprint\u001b[39m(\u001b[33m\"\u001b[39m\u001b[33mSaved candle:\u001b[39m\u001b[33m\"\u001b[39m, candle)\n\u001b[32m     36\u001b[39m \u001b[38;5;28;01mif\u001b[39;00m \u001b[34m__name__\u001b[39m == \u001b[33m\"\u001b[39m\u001b[33m__main__\u001b[39m\u001b[33m\"\u001b[39m:\n\u001b[32m---> \u001b[39m\u001b[32m37\u001b[39m     \u001b[43masyncio\u001b[49m\u001b[43m.\u001b[49m\u001b[43mrun\u001b[49m\u001b[43m(\u001b[49m\u001b[43mstream_data\u001b[49m\u001b[43m(\u001b[49m\u001b[43m)\u001b[49m\u001b[43m)\u001b[49m\n",
      "\u001b[36mFile \u001b[39m\u001b[32m/opt/anaconda3/envs/studentgator/lib/python3.11/site-packages/nest_asyncio.py:30\u001b[39m, in \u001b[36m_patch_asyncio.<locals>.run\u001b[39m\u001b[34m(main, debug)\u001b[39m\n\u001b[32m     28\u001b[39m task = asyncio.ensure_future(main)\n\u001b[32m     29\u001b[39m \u001b[38;5;28;01mtry\u001b[39;00m:\n\u001b[32m---> \u001b[39m\u001b[32m30\u001b[39m     \u001b[38;5;28;01mreturn\u001b[39;00m \u001b[43mloop\u001b[49m\u001b[43m.\u001b[49m\u001b[43mrun_until_complete\u001b[49m\u001b[43m(\u001b[49m\u001b[43mtask\u001b[49m\u001b[43m)\u001b[49m\n\u001b[32m     31\u001b[39m \u001b[38;5;28;01mfinally\u001b[39;00m:\n\u001b[32m     32\u001b[39m     \u001b[38;5;28;01mif\u001b[39;00m \u001b[38;5;129;01mnot\u001b[39;00m task.done():\n",
      "\u001b[36mFile \u001b[39m\u001b[32m/opt/anaconda3/envs/studentgator/lib/python3.11/site-packages/nest_asyncio.py:92\u001b[39m, in \u001b[36m_patch_loop.<locals>.run_until_complete\u001b[39m\u001b[34m(self, future)\u001b[39m\n\u001b[32m     90\u001b[39m     f._log_destroy_pending = \u001b[38;5;28;01mFalse\u001b[39;00m\n\u001b[32m     91\u001b[39m \u001b[38;5;28;01mwhile\u001b[39;00m \u001b[38;5;129;01mnot\u001b[39;00m f.done():\n\u001b[32m---> \u001b[39m\u001b[32m92\u001b[39m     \u001b[38;5;28;43mself\u001b[39;49m\u001b[43m.\u001b[49m\u001b[43m_run_once\u001b[49m\u001b[43m(\u001b[49m\u001b[43m)\u001b[49m\n\u001b[32m     93\u001b[39m     \u001b[38;5;28;01mif\u001b[39;00m \u001b[38;5;28mself\u001b[39m._stopping:\n\u001b[32m     94\u001b[39m         \u001b[38;5;28;01mbreak\u001b[39;00m\n",
      "\u001b[36mFile \u001b[39m\u001b[32m/opt/anaconda3/envs/studentgator/lib/python3.11/site-packages/nest_asyncio.py:115\u001b[39m, in \u001b[36m_patch_loop.<locals>._run_once\u001b[39m\u001b[34m(self)\u001b[39m\n\u001b[32m    108\u001b[39m     heappop(scheduled)\n\u001b[32m    110\u001b[39m timeout = (\n\u001b[32m    111\u001b[39m     \u001b[32m0\u001b[39m \u001b[38;5;28;01mif\u001b[39;00m ready \u001b[38;5;129;01mor\u001b[39;00m \u001b[38;5;28mself\u001b[39m._stopping\n\u001b[32m    112\u001b[39m     \u001b[38;5;28;01melse\u001b[39;00m \u001b[38;5;28mmin\u001b[39m(\u001b[38;5;28mmax\u001b[39m(\n\u001b[32m    113\u001b[39m         scheduled[\u001b[32m0\u001b[39m]._when - \u001b[38;5;28mself\u001b[39m.time(), \u001b[32m0\u001b[39m), \u001b[32m86400\u001b[39m) \u001b[38;5;28;01mif\u001b[39;00m scheduled\n\u001b[32m    114\u001b[39m     \u001b[38;5;28;01melse\u001b[39;00m \u001b[38;5;28;01mNone\u001b[39;00m)\n\u001b[32m--> \u001b[39m\u001b[32m115\u001b[39m event_list = \u001b[38;5;28;43mself\u001b[39;49m\u001b[43m.\u001b[49m\u001b[43m_selector\u001b[49m\u001b[43m.\u001b[49m\u001b[43mselect\u001b[49m\u001b[43m(\u001b[49m\u001b[43mtimeout\u001b[49m\u001b[43m)\u001b[49m\n\u001b[32m    116\u001b[39m \u001b[38;5;28mself\u001b[39m._process_events(event_list)\n\u001b[32m    118\u001b[39m end_time = \u001b[38;5;28mself\u001b[39m.time() + \u001b[38;5;28mself\u001b[39m._clock_resolution\n",
      "\u001b[36mFile \u001b[39m\u001b[32m/opt/anaconda3/envs/studentgator/lib/python3.11/selectors.py:566\u001b[39m, in \u001b[36mKqueueSelector.select\u001b[39m\u001b[34m(self, timeout)\u001b[39m\n\u001b[32m    564\u001b[39m ready = []\n\u001b[32m    565\u001b[39m \u001b[38;5;28;01mtry\u001b[39;00m:\n\u001b[32m--> \u001b[39m\u001b[32m566\u001b[39m     kev_list = \u001b[38;5;28mself\u001b[39m._selector.control(\u001b[38;5;28;01mNone\u001b[39;00m, max_ev, timeout)\n\u001b[32m    567\u001b[39m \u001b[38;5;28;01mexcept\u001b[39;00m \u001b[38;5;167;01mInterruptedError\u001b[39;00m:\n\u001b[32m    568\u001b[39m     \u001b[38;5;28;01mreturn\u001b[39;00m ready\n",
      "\u001b[31mKeyboardInterrupt\u001b[39m: "
     ]
    }
   ],
   "source": [
    "import asyncio\n",
    "import json\n",
    "import os\n",
    "import tomllib\n",
    "import websockets\n",
    "from dotenv import load_dotenv\n",
    "from app.database import insert_candle\n",
    "from app import config\n",
    "import nest_asyncio\n",
    "nest_asyncio.apply()  # To allow nested event loops in Jupyter\n",
    "\n",
    "load_dotenv()\n",
    "\n",
    "\n",
    "symbol   = config.BINANCE_SYMBOL.lower()\n",
    "interval = config.BINANCE_INTERVAL\n",
    "stream_url = f\"wss://stream.binance.com:9443/ws/{symbol}@kline_{interval}\"\n",
    "\n",
    "async def stream_data():\n",
    "    async with websockets.connect(stream_url, ping_interval=20) as ws:\n",
    "        async for message in ws:\n",
    "            data = json.loads(message)\n",
    "            kline = data[\"k\"]\n",
    "            if kline[\"x\"]:  # closed candle only\n",
    "                candle = {\n",
    "                    \"t\": kline[\"t\"],\n",
    "                    \"o\": float(kline[\"o\"]),\n",
    "                    \"h\": float(kline[\"h\"]),\n",
    "                    \"l\": float(kline[\"l\"]),\n",
    "                    \"c\": float(kline[\"c\"]),\n",
    "                    \"v\": float(kline[\"v\"])\n",
    "                }\n",
    "                await insert_candle(candle)\n",
    "                print(\"Saved candle:\", candle)\n",
    "\n",
    "if __name__ == \"__main__\":\n",
    "    asyncio.run(stream_data())\n"
   ]
  },
  {
   "cell_type": "code",
   "execution_count": 17,
   "id": "aab59963",
   "metadata": {},
   "outputs": [
    {
     "ename": "NameError",
     "evalue": "name 'data' is not defined",
     "output_type": "error",
     "traceback": [
      "\u001b[31m---------------------------------------------------------------------------\u001b[39m",
      "\u001b[31mNameError\u001b[39m                                 Traceback (most recent call last)",
      "\u001b[36mCell\u001b[39m\u001b[36m \u001b[39m\u001b[32mIn[17]\u001b[39m\u001b[32m, line 1\u001b[39m\n\u001b[32m----> \u001b[39m\u001b[32m1\u001b[39m \u001b[43mdata\u001b[49m\n",
      "\u001b[31mNameError\u001b[39m: name 'data' is not defined"
     ]
    }
   ],
   "source": [
    "data"
   ]
  },
  {
   "cell_type": "code",
   "execution_count": null,
   "id": "4734cd7f",
   "metadata": {},
   "outputs": [
    {
     "data": {
      "text/plain": [
       "<code object connect at 0x119a456d0, file \"/opt/anaconda3/envs/studentgator/lib/python3.11/site-packages/asyncpg/connection.py\", line 2074>"
      ]
     },
     "execution_count": 16,
     "metadata": {},
     "output_type": "execute_result"
    }
   ],
   "source": []
  },
  {
   "cell_type": "code",
   "execution_count": null,
   "id": "53e93207",
   "metadata": {},
   "outputs": [],
   "source": []
  }
 ],
 "metadata": {
  "kernelspec": {
   "display_name": "studentgator",
   "language": "python",
   "name": "python3"
  },
  "language_info": {
   "codemirror_mode": {
    "name": "ipython",
    "version": 3
   },
   "file_extension": ".py",
   "mimetype": "text/x-python",
   "name": "python",
   "nbconvert_exporter": "python",
   "pygments_lexer": "ipython3",
   "version": "3.11.11"
  }
 },
 "nbformat": 4,
 "nbformat_minor": 5
}
